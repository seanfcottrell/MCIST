{
 "cells": [
  {
   "cell_type": "code",
   "execution_count": 5,
   "metadata": {},
   "outputs": [],
   "source": [
    "import pandas as pd\n",
    "import numpy as np\n",
    "import scanpy as sc\n",
    "import os\n",
    "import sys\n",
    "import warnings\n",
    "import matplotlib.pyplot as plt\n",
    "warnings.filterwarnings(\"ignore\")\n",
    "from sklearn.metrics.cluster import normalized_mutual_info_score\n",
    "from TAST_GATE import TAST_GATE\n",
    "\n",
    "#For DLPFC, we combine topological features with the STAGATE embedding\n",
    "#Load Data\n",
    "section_id = '151672'\n",
    "adata = sc.read('./Data/DLPFC/'+section_id+'/'+section_id+'.h5ad')"
   ]
  },
  {
   "cell_type": "code",
   "execution_count": 6,
   "metadata": {},
   "outputs": [
    {
     "name": "stdout",
     "output_type": "stream",
     "text": [
      "------Calculating spatial graph...\n",
      "The graph contains 23382 edges, 4015 cells.\n",
      "5.8237 neighbors per cell on average.\n",
      "Size of Input:  (4015, 3003)\n"
     ]
    },
    {
     "name": "stderr",
     "output_type": "stream",
     "text": [
      "  9%|▉         | 90/1000 [06:55<1:07:57,  4.48s/it]"
     ]
    }
   ],
   "source": [
    "adata = TAST_GATE(adata = adata, consensus = False, n_clusters = 5, spatial_rad_cutoff = 150, ground_truth = None)"
   ]
  },
  {
   "cell_type": "code",
   "execution_count": null,
   "metadata": {},
   "outputs": [],
   "source": [
    "plt.rcParams[\"figure.figsize\"] = (8, 8)\n",
    "sc.pl.spatial(adata, color='mclust', cmap = 'tab20')"
   ]
  },
  {
   "cell_type": "code",
   "execution_count": null,
   "metadata": {},
   "outputs": [],
   "source": [
    "adata.uns[\"iroot\"] = np.flatnonzero(adata.obs[\"layer\"] == 'WM')[0]\n",
    "sc.pp.neighbors(adata, n_neighbors=6, use_rep=\"TAST\")\n",
    "sc.tl.dpt(adata)"
   ]
  },
  {
   "cell_type": "code",
   "execution_count": null,
   "metadata": {},
   "outputs": [],
   "source": [
    "adata.obs[\"Pseudotime\"] = adata.obs[\"dpt_pseudotime\"]\n",
    "plt.rcParams[\"figure.figsize\"] = (3, 3)\n",
    "sc.pl.spatial(adata, img_key=\"hires\", color=[\"Pseudotime\"])"
   ]
  }
 ],
 "metadata": {
  "kernelspec": {
   "display_name": "GATE",
   "language": "python",
   "name": "python3"
  },
  "language_info": {
   "codemirror_mode": {
    "name": "ipython",
    "version": 3
   },
   "file_extension": ".py",
   "mimetype": "text/x-python",
   "name": "python",
   "nbconvert_exporter": "python",
   "pygments_lexer": "ipython3",
   "version": "3.10.13"
  }
 },
 "nbformat": 4,
 "nbformat_minor": 2
}
